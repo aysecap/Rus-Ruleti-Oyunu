{
  "nbformat": 4,
  "nbformat_minor": 0,
  "metadata": {
    "colab": {
      "provenance": [],
      "authorship_tag": "ABX9TyM6k18MMP1k692jubMWSc80",
      "include_colab_link": true
    },
    "kernelspec": {
      "name": "python3",
      "display_name": "Python 3"
    },
    "language_info": {
      "name": "python"
    }
  },
  "cells": [
    {
      "cell_type": "markdown",
      "metadata": {
        "id": "view-in-github",
        "colab_type": "text"
      },
      "source": [
        "<a href=\"https://colab.research.google.com/github/aysecap/Rus-Ruleti-Oyunu/blob/main/RusRuleti.ipynb\" target=\"_parent\"><img src=\"https://colab.research.google.com/assets/colab-badge.svg\" alt=\"Open In Colab\"/></a>"
      ]
    },
    {
      "cell_type": "code",
      "source": [
        "!apt-get install -y xvfb # Install X Virtual Frame Buffer\n",
        "import os\n",
        "os.system('Xvfb :1 -screen 0 1600x1200x16  &')    # create virtual display with size 1600x1200 and 16 bit color. Color can be changed to 24 or 8\n",
        "os.environ['DISPLAY']=':1.0'    # tell X clients to use our virtual DISPLAY :1.0"
      ],
      "metadata": {
        "colab": {
          "base_uri": "https://localhost:8080/"
        },
        "id": "nv2IkwrBkA-r",
        "outputId": "c698793c-128d-4908-ea65-a71352b77730"
      },
      "execution_count": 1,
      "outputs": [
        {
          "output_type": "stream",
          "name": "stdout",
          "text": [
            "Reading package lists... Done\n",
            "Building dependency tree       \n",
            "Reading state information... Done\n",
            "xvfb is already the newest version (2:1.19.6-1ubuntu4.11).\n",
            "The following package was automatically installed and is no longer required:\n",
            "  libnvidia-common-460\n",
            "Use 'apt autoremove' to remove it.\n",
            "0 upgraded, 0 newly installed, 0 to remove and 20 not upgraded.\n"
          ]
        }
      ]
    },
    {
      "cell_type": "code",
      "execution_count": 2,
      "metadata": {
        "id": "76S5DdmOcI_m"
      },
      "outputs": [],
      "source": [
        "import tkinter as tk"
      ]
    },
    {
      "cell_type": "code",
      "source": [
        "from random import shuffle"
      ],
      "metadata": {
        "id": "Bu9_S7IDdOa4"
      },
      "execution_count": 3,
      "outputs": []
    },
    {
      "cell_type": "code",
      "source": [
        "#true merminin olduğu yer\n",
        "gun = [False,False, False,True,False,False]\n",
        "\n",
        "#Ana pencere oluşturulur\n",
        "\n",
        "root =tk.Tk()\n",
        "root.title(\"Rus Ruleti\")\n",
        "root.geometry(\"600x300\") #penceresinin boyutlarını ayarlamak için kullanılır ve ana pencerenin kullanıcının masaüstündeki konumunu ayarlamak için kullanılır.\n",
        "\n",
        "#Yazının değişkeni yazılır ve yazmı yerleştirilir\n",
        "label = tk.Label(root, text=\"Ateş Et!\", font =  (\"Arial\",20), pady=20)\n",
        "label.pack()\n",
        "\n",
        "#kurşunu bulma\n",
        "def shuffle_gun():\n",
        "  shuffle(gun)\n",
        "  button1.config(state=\"normal\")\n",
        "  button2.config(state = \"normal\")\n",
        "  label.config(text=\"Ateş Et!\")\n",
        "\n",
        "#ateş etme fonksiyonu\n",
        "def shoot():\n",
        "   if gun[0]:\n",
        "     label.config(text=\"Öldün Çık :P\")\n",
        "     button1.config(state=\"disabled\")\n",
        "     button2.config(state=\"disabled\")\n",
        "   else:\n",
        "    label.config(text=\"Yaşıyorsun Oyna :(\")\n",
        "    button2.config(state=\"disabled\")\n",
        "\n",
        "#karıştırma butonu\n",
        "button1 = tk.Button(root ,text=\"Karıştır\",\n",
        "                    command=shuffle_gun, font=(\"Arial\",20))\n",
        "button1.pack()\n",
        "\n",
        "#Ateş etme butonu\n",
        "button2 = tk.Button(root,text=\"Ateş Et!\",command=shoot, font=(\"Arial\",20))\n",
        "button2.pack()\n",
        "\n",
        "#pencereyi göster\n",
        "root.mainloop()\n",
        "\n"
      ],
      "metadata": {
        "id": "yKyBauLEdXHm"
      },
      "execution_count": null,
      "outputs": []
    }
  ]
}